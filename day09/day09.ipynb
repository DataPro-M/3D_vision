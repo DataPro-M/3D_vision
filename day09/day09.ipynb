{
 "cells": [
  {
   "cell_type": "markdown",
   "metadata": {},
   "source": [
    "***\n",
    "<div style=\"text-align:center\">\n",
    "     <h1 align=\"center\">\n",
    "         <i class=\"fas fa-calendar-day\" aria-hidden=\"true\">  Day 9 of #3D_vision_journey </i>\n",
    "    </h1>      \n",
    "</div>\n",
    "\n",
    "<h3 style='text-align: center;'>\n",
    "    <img  src=\"../images/open3d_logo.png\" height=\"50\"/>     \n",
    "</h3>"
   ]
  },
  {
   "cell_type": "markdown",
   "metadata": {},
   "source": [
    "* Load the libraries"
   ]
  },
  {
   "cell_type": "code",
   "execution_count": 26,
   "metadata": {},
   "outputs": [],
   "source": [
    "import open3d as o3d\n",
    "import numpy as np\n",
    "import copy\n",
    "import os\n",
    "import sys\n",
    "\n",
    "draw_bit = 1 # draw it or not!"
   ]
  },
  {
   "cell_type": "markdown",
   "metadata": {},
   "source": [
    "###  Load point cloud "
   ]
  },
  {
   "cell_type": "code",
   "execution_count": 49,
   "metadata": {},
   "outputs": [
    {
     "name": "stdout",
     "output_type": "stream",
     "text": [
      "Load a point cloud , paint it gray, and render it\n"
     ]
    }
   ],
   "source": [
    "print(\"Load a point cloud , paint it gray, and render it\")\n",
    "# Read a point cloud from file  .xyz  .xyzn  .xyzrgb   .pts   .ply   .pcd\n",
    "bunny_1 = o3d.io.read_point_cloud(\"../data/pointcloud/Bunny.ply\")\n",
    "# copy it\n",
    "bunny_2 = copy.copy(bunny_1)\n",
    "# shift up the second bunny\n",
    "np.asarray(bunny_2.points)[:,1] +=0.3\n",
    "\n",
    "\n",
    "if draw_bit:\n",
    "    vis = o3d.visualization.Visualizer()\n",
    "    vis.create_window(\"bunies\", 1600, 900) #// create a visualizer window\n",
    "\n",
    "    vis.add_geometry(bunny_1)    \n",
    "    vis.add_geometry(bunny_2)\n",
    "                \n",
    "    vis.run();               \n",
    "    vis.destroy_window()"
   ]
  },
  {
   "cell_type": "markdown",
   "metadata": {},
   "source": [
    "### Scaling the point cloud\n"
   ]
  },
  {
   "cell_type": "code",
   "execution_count": 47,
   "metadata": {},
   "outputs": [],
   "source": [
    "max_bound = bunny_1.get_max_bound()\n",
    "min_bound = bunny_1.get_min_bound()\n",
    "center = bunny_1.get_center()\n",
    "bunny_1.scale(1 / np.max(max_bound - min_bound), center=center)\n",
    "\n",
    "if draw_bit:\n",
    "    vis = o3d.visualization.Visualizer()\n",
    "    vis.create_window(\"scaled bunny\", 1600, 900) #// create a visualizer window\n",
    "\n",
    "    vis.add_geometry(bunny_1)    \n",
    "    vis.add_geometry(bunny_2)\n",
    "                \n",
    "    vis.run();               \n",
    "    vis.destroy_window(); "
   ]
  },
  {
   "cell_type": "markdown",
   "metadata": {},
   "source": [
    "### Voxelization\n",
    "> The `VoxelGrid` class creates a 3D voxel grid (think about a voxel grid as a set of `tiny 3D boxes` in space) over the input point cloud data. Then, in each voxel (i.e., 3D box), all the points present will be approximated (i.e., downsampled) with their  centroid. This approach is a bit slower than approximating them with the center of the voxel, but it represents the underlying surface more accurately."
   ]
  },
  {
   "cell_type": "code",
   "execution_count": 48,
   "metadata": {},
   "outputs": [],
   "source": [
    "voxel_grid = o3d.geometry.VoxelGrid.create_from_point_cloud(bunny_1, voxel_size=0.03)\n",
    "o3d.visualization.draw_geometries([voxel_grid])   "
   ]
  }
 ],
 "metadata": {
  "interpreter": {
   "hash": "da7da8fde1d25477ded7e22555e17b53ed3efd80c9085ececf05301fa7adca65"
  },
  "kernelspec": {
   "display_name": "Python 3.6.10 64-bit ('p36': conda)",
   "language": "python",
   "name": "python3"
  },
  "language_info": {
   "codemirror_mode": {
    "name": "ipython",
    "version": 3
   },
   "file_extension": ".py",
   "mimetype": "text/x-python",
   "name": "python",
   "nbconvert_exporter": "python",
   "pygments_lexer": "ipython3",
   "version": "3.6.10"
  },
  "orig_nbformat": 4
 },
 "nbformat": 4,
 "nbformat_minor": 2
}
