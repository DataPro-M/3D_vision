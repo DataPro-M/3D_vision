{
 "cells": [
  {
   "cell_type": "markdown",
   "metadata": {},
   "source": [
    "***\n",
    "<div style=\"text-align:center\">\n",
    "     <h1 align=\"center\">\n",
    "         <i class=\"fas fa-calendar-day\" aria-hidden=\"true\">  Day 8 of #3D_vision_journey </i>\n",
    "    </h1>      \n",
    "</div>\n",
    "\n",
    "<h3 style='text-align: center;'>\n",
    "    <img  src=\"../images/open3d_logo.png\" height=\"50\"/>     \n",
    "</h3>"
   ]
  },
  {
   "cell_type": "markdown",
   "metadata": {},
   "source": [
    "* Load the libraries"
   ]
  },
  {
   "cell_type": "code",
   "execution_count": 1,
   "metadata": {},
   "outputs": [],
   "source": [
    "import open3d as o3d\n",
    "import numpy as np\n",
    "\n",
    "draw_bit = 1 # draw it or not!"
   ]
  },
  {
   "cell_type": "markdown",
   "metadata": {},
   "source": [
    "###  Load point cloud "
   ]
  },
  {
   "cell_type": "code",
   "execution_count": 12,
   "metadata": {},
   "outputs": [
    {
     "name": "stdout",
     "output_type": "stream",
     "text": [
      "Load a point cloud , paint it gray, and render it\n",
      "PointCloud with 460400 points.\n",
      "PointCloud shape: (460400, 3)\n"
     ]
    }
   ],
   "source": [
    "print(\"Load a point cloud , paint it gray, and render it\")\n",
    "# Read a point cloud from file  .xyz  .xyzn  .xyzrgb   .pts   .ply   .pcd\n",
    "pcd = o3d.io.read_point_cloud(\"../data/pointcloud/table_scene_lms400.pcd\")\n",
    "pcd.paint_uniform_color([0.6, 0.6, 0.6])\n",
    "\n",
    "print(pcd)\n",
    "\n",
    "print(f'PointCloud shape: {np.asarray(pcd.points).shape}')\n",
    "\n",
    "if draw_bit:\n",
    "    o3d.visualization.draw_geometries([pcd],\n",
    "    window_name='table_scene',\n",
    "     height=800,width=800)"
   ]
  },
  {
   "cell_type": "markdown",
   "metadata": {},
   "source": [
    "### Downsample the point cloud\n"
   ]
  },
  {
   "cell_type": "code",
   "execution_count": 13,
   "metadata": {},
   "outputs": [
    {
     "name": "stdout",
     "output_type": "stream",
     "text": [
      "Downsample the point cloud with a voxel of 0.02\n"
     ]
    }
   ],
   "source": [
    "print(\"Downsample the point cloud with a voxel of 0.02\")\n",
    "voxel_down_pcd = pcd.voxel_down_sample(voxel_size=0.02)\n",
    "\n",
    "if draw_bit:\n",
    "    o3d.visualization.draw_geometries([voxel_down_pcd],\n",
    "    window_name='table_Downsampled',\n",
    "     height=800,width=800)"
   ]
  },
  {
   "cell_type": "markdown",
   "metadata": {},
   "source": [
    "### Statistical outlier removal "
   ]
  },
  {
   "cell_type": "code",
   "execution_count": 14,
   "metadata": {},
   "outputs": [],
   "source": [
    "def display_inlier_outlier(cloud, ind, window_name='Open3d'):\n",
    "    inlier_cloud = cloud.select_by_index(ind)\n",
    "    outlier_cloud = cloud.select_by_index(ind, invert=True)\n",
    "\n",
    "    print(\"Showing outliers (red) and inliers (gray): \")\n",
    "    outlier_cloud.paint_uniform_color([1, 0, 0])\n",
    "    inlier_cloud.paint_uniform_color([0.2, 0.8, 0.8])\n",
    "    o3d.visualization.draw_geometries([inlier_cloud, outlier_cloud],\n",
    "     window_name=window_name,\n",
    "     height=800,width=800)\n",
    "    "
   ]
  },
  {
   "cell_type": "markdown",
   "metadata": {},
   "source": [
    "* removes points that are `further away from their neighbors` compared to the average for the point cloud.\n",
    "* __[nb_neighbors]__: specifies `how many neighbors` are taken into account in order to calculate the average distance for a given point.\n",
    "* __[std_ratio]__: `The lower` this number the `more aggressive` the filter will be.\n",
    "* __ind__: inlier indices"
   ]
  },
  {
   "cell_type": "code",
   "execution_count": 17,
   "metadata": {},
   "outputs": [
    {
     "name": "stdout",
     "output_type": "stream",
     "text": [
      "Statistical oulier removal\n",
      "Showing outliers (red) and inliers (gray): \n"
     ]
    }
   ],
   "source": [
    "print(\"Statistical oulier removal\")\n",
    "\n",
    "cl, ind = voxel_down_pcd.remove_statistical_outlier(nb_neighbors=50, std_ratio=1.0)\n",
    "display_inlier_outlier(voxel_down_pcd, ind, window_name='Statistical oulier removal')\n"
   ]
  },
  {
   "cell_type": "markdown",
   "metadata": {},
   "source": [
    "### Radius outlier removal \n",
    "\n",
    "* removes points that `have few neighbors` in a `given sphere` around them.\n",
    "* __[nb_points]__: pick the `minimum amount of points` that the `sphere should contain`.\n",
    "* __[radius]__: defines `the radius of the sphere` that will be used for counting the neighbors."
   ]
  },
  {
   "cell_type": "code",
   "execution_count": 18,
   "metadata": {},
   "outputs": [
    {
     "name": "stdout",
     "output_type": "stream",
     "text": [
      "Radius oulier removal\n",
      "Showing outliers (red) and inliers (gray): \n"
     ]
    }
   ],
   "source": [
    "print(\"Radius oulier removal\")\n",
    "cl, ind = voxel_down_pcd.remove_radius_outlier(nb_points=20, radius=0.05)\n",
    "display_inlier_outlier(voxel_down_pcd, ind, window_name='Radius oulier removal')"
   ]
  }
 ],
 "metadata": {
  "interpreter": {
   "hash": "da7da8fde1d25477ded7e22555e17b53ed3efd80c9085ececf05301fa7adca65"
  },
  "kernelspec": {
   "display_name": "Python 3.6.10 64-bit ('p36': conda)",
   "language": "python",
   "name": "python3"
  },
  "language_info": {
   "codemirror_mode": {
    "name": "ipython",
    "version": 3
   },
   "file_extension": ".py",
   "mimetype": "text/x-python",
   "name": "python",
   "nbconvert_exporter": "python",
   "pygments_lexer": "ipython3",
   "version": "3.6.10"
  },
  "orig_nbformat": 4
 },
 "nbformat": 4,
 "nbformat_minor": 2
}
