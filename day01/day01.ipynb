{
 "cells": [
  {
   "cell_type": "markdown",
   "metadata": {},
   "source": [
    "***\n",
    "<div style=\"text-align:center\">\n",
    "     <h1 align=\"center\">\n",
    "         <i class=\"fas fa-calendar-day\" aria-hidden=\"true\">  Day 1 of #3D_vision_journey </i>\n",
    "    </h1>      \n",
    "</div>\n",
    "\n",
    "<h3 style='text-align: center;'>\n",
    "    <img  src=\"../images/open3d_logo.png\" height=\"50\"/>     \n",
    "</h3>"
   ]
  },
  {
   "cell_type": "code",
   "execution_count": 3,
   "metadata": {},
   "outputs": [
    {
     "name": "stdout",
     "output_type": "stream",
     "text": [
      "Requirement already satisfied: open3d in /home/pi/anaconda3/envs/p36/lib/python3.6/site-packages (0.14.1)\n",
      "Requirement already satisfied: ipywidgets>=7.6.0 in /home/pi/.local/lib/python3.6/site-packages (from open3d) (7.6.5)\n",
      "Requirement already satisfied: jupyter-packaging~=0.10 in /home/pi/anaconda3/envs/p36/lib/python3.6/site-packages (from open3d) (0.10.6)\n",
      "Requirement already satisfied: matplotlib>=3 in /home/pi/anaconda3/envs/p36/lib/python3.6/site-packages (from open3d) (3.3.4)\n",
      "Requirement already satisfied: wheel>=0.36.0 in /home/pi/anaconda3/envs/p36/lib/python3.6/site-packages (from open3d) (0.36.2)\n",
      "Requirement already satisfied: pandas>=1.0 in /home/pi/anaconda3/envs/p36/lib/python3.6/site-packages (from open3d) (1.1.5)\n",
      "Requirement already satisfied: pygments>=2.7.4 in /home/pi/.local/lib/python3.6/site-packages (from open3d) (2.11.1)\n",
      "Requirement already satisfied: numpy>1.15 in /home/pi/.local/lib/python3.6/site-packages (from open3d) (1.19.5)\n",
      "Requirement already satisfied: pyyaml>=5.4.1 in /home/pi/anaconda3/envs/p36/lib/python3.6/site-packages (from open3d) (5.4.1)\n",
      "Requirement already satisfied: setuptools>=40.8.0 in /home/pi/anaconda3/envs/p36/lib/python3.6/site-packages (from open3d) (52.0.0.post20210125)\n",
      "Requirement already satisfied: jupyterlab==3.*,>=3.0.0 in /home/pi/anaconda3/envs/p36/lib/python3.6/site-packages (from open3d) (3.0.14)\n",
      "Requirement already satisfied: scikit-learn>=0.21 in /home/pi/anaconda3/envs/p36/lib/python3.6/site-packages (from open3d) (0.23.2)\n",
      "Requirement already satisfied: addict in /home/pi/anaconda3/envs/p36/lib/python3.6/site-packages (from open3d) (2.4.0)\n",
      "Requirement already satisfied: pillow>=8.2.0 in /home/pi/anaconda3/envs/p36/lib/python3.6/site-packages (from open3d) (8.2.0)\n",
      "Requirement already satisfied: tqdm in /home/pi/anaconda3/envs/p36/lib/python3.6/site-packages (from open3d) (4.61.1)\n",
      "Requirement already satisfied: jinja2>=2.10 in /home/pi/.local/lib/python3.6/site-packages (from jupyterlab==3.*,>=3.0.0->open3d) (3.0.3)\n",
      "Requirement already satisfied: jupyter-core in /home/pi/.local/lib/python3.6/site-packages (from jupyterlab==3.*,>=3.0.0->open3d) (4.9.1)\n",
      "Requirement already satisfied: nbclassic~=0.2 in /home/pi/anaconda3/envs/p36/lib/python3.6/site-packages (from jupyterlab==3.*,>=3.0.0->open3d) (0.3.1)\n",
      "Requirement already satisfied: ipython in /home/pi/.local/lib/python3.6/site-packages (from jupyterlab==3.*,>=3.0.0->open3d) (7.16.2)\n",
      "Requirement already satisfied: jupyterlab-server~=2.3 in /home/pi/anaconda3/envs/p36/lib/python3.6/site-packages (from jupyterlab==3.*,>=3.0.0->open3d) (2.6.0)\n",
      "Requirement already satisfied: packaging in /home/pi/.local/lib/python3.6/site-packages (from jupyterlab==3.*,>=3.0.0->open3d) (21.3)\n",
      "Requirement already satisfied: tornado>=6.1.0 in /home/pi/.local/lib/python3.6/site-packages (from jupyterlab==3.*,>=3.0.0->open3d) (6.1)\n",
      "Requirement already satisfied: jupyter-server~=1.4 in /home/pi/anaconda3/envs/p36/lib/python3.6/site-packages (from jupyterlab==3.*,>=3.0.0->open3d) (1.8.0)\n",
      "Requirement already satisfied: traitlets>=4.3.1 in /home/pi/.local/lib/python3.6/site-packages (from ipywidgets>=7.6.0->open3d) (4.3.3)\n",
      "Requirement already satisfied: ipykernel>=4.5.1 in /home/pi/.local/lib/python3.6/site-packages (from ipywidgets>=7.6.0->open3d) (5.5.6)\n",
      "Requirement already satisfied: ipython-genutils~=0.2.0 in /home/pi/.local/lib/python3.6/site-packages (from ipywidgets>=7.6.0->open3d) (0.2.0)\n",
      "Requirement already satisfied: jupyterlab-widgets>=1.0.0 in /home/pi/.local/lib/python3.6/site-packages (from ipywidgets>=7.6.0->open3d) (1.0.2)\n",
      "Requirement already satisfied: nbformat>=4.2.0 in /home/pi/.local/lib/python3.6/site-packages (from ipywidgets>=7.6.0->open3d) (5.1.3)\n",
      "Requirement already satisfied: widgetsnbextension~=3.5.0 in /home/pi/.local/lib/python3.6/site-packages (from ipywidgets>=7.6.0->open3d) (3.5.2)\n",
      "Requirement already satisfied: tomlkit in /home/pi/anaconda3/envs/p36/lib/python3.6/site-packages (from jupyter-packaging~=0.10->open3d) (0.8.0)\n",
      "Requirement already satisfied: deprecation in /home/pi/anaconda3/envs/p36/lib/python3.6/site-packages (from jupyter-packaging~=0.10->open3d) (2.1.0)\n",
      "Requirement already satisfied: cycler>=0.10 in /home/pi/anaconda3/envs/p36/lib/python3.6/site-packages (from matplotlib>=3->open3d) (0.10.0)\n",
      "Requirement already satisfied: kiwisolver>=1.0.1 in /home/pi/anaconda3/envs/p36/lib/python3.6/site-packages (from matplotlib>=3->open3d) (1.3.1)\n",
      "Requirement already satisfied: pyparsing!=2.0.4,!=2.1.2,!=2.1.6,>=2.0.3 in /home/pi/.local/lib/python3.6/site-packages (from matplotlib>=3->open3d) (3.0.6)\n",
      "Requirement already satisfied: python-dateutil>=2.1 in /home/pi/anaconda3/envs/p36/lib/python3.6/site-packages (from matplotlib>=3->open3d) (2.8.1)\n",
      "Requirement already satisfied: pytz>=2017.2 in /home/pi/anaconda3/envs/p36/lib/python3.6/site-packages (from pandas>=1.0->open3d) (2021.1)\n",
      "Requirement already satisfied: scipy>=0.19.1 in /home/pi/anaconda3/envs/p36/lib/python3.6/site-packages (from scikit-learn>=0.21->open3d) (1.5.2)\n",
      "Requirement already satisfied: threadpoolctl>=2.0.0 in /home/pi/anaconda3/envs/p36/lib/python3.6/site-packages (from scikit-learn>=0.21->open3d) (2.1.0)\n",
      "Requirement already satisfied: joblib>=0.11 in /home/pi/anaconda3/envs/p36/lib/python3.6/site-packages (from scikit-learn>=0.21->open3d) (1.0.1)\n",
      "Requirement already satisfied: six in /home/pi/anaconda3/envs/p36/lib/python3.6/site-packages (from cycler>=0.10->matplotlib>=3->open3d) (1.16.0)\n",
      "Requirement already satisfied: jupyter-client in /home/pi/.local/lib/python3.6/site-packages (from ipykernel>=4.5.1->ipywidgets>=7.6.0->open3d) (7.1.0)\n",
      "Requirement already satisfied: decorator in /home/pi/.local/lib/python3.6/site-packages (from ipython->jupyterlab==3.*,>=3.0.0->open3d) (5.1.0)\n",
      "Requirement already satisfied: pickleshare in /home/pi/.local/lib/python3.6/site-packages (from ipython->jupyterlab==3.*,>=3.0.0->open3d) (0.7.5)\n",
      "Requirement already satisfied: prompt-toolkit!=3.0.0,!=3.0.1,<3.1.0,>=2.0.0 in /home/pi/.local/lib/python3.6/site-packages (from ipython->jupyterlab==3.*,>=3.0.0->open3d) (3.0.24)\n",
      "Requirement already satisfied: backcall in /home/pi/.local/lib/python3.6/site-packages (from ipython->jupyterlab==3.*,>=3.0.0->open3d) (0.2.0)\n",
      "Requirement already satisfied: pexpect in /home/pi/anaconda3/envs/p36/lib/python3.6/site-packages (from ipython->jupyterlab==3.*,>=3.0.0->open3d) (4.8.0)\n",
      "Requirement already satisfied: jedi<=0.17.2,>=0.10 in /home/pi/.local/lib/python3.6/site-packages (from ipython->jupyterlab==3.*,>=3.0.0->open3d) (0.17.2)\n",
      "Requirement already satisfied: MarkupSafe>=2.0 in /home/pi/.local/lib/python3.6/site-packages (from jinja2>=2.10->jupyterlab==3.*,>=3.0.0->open3d) (2.0.1)\n",
      "Requirement already satisfied: argon2-cffi in /home/pi/.local/lib/python3.6/site-packages (from jupyter-server~=1.4->jupyterlab==3.*,>=3.0.0->open3d) (21.3.0)\n",
      "Requirement already satisfied: prometheus-client in /home/pi/.local/lib/python3.6/site-packages (from jupyter-server~=1.4->jupyterlab==3.*,>=3.0.0->open3d) (0.12.0)\n",
      "Requirement already satisfied: terminado>=0.8.3 in /home/pi/.local/lib/python3.6/site-packages (from jupyter-server~=1.4->jupyterlab==3.*,>=3.0.0->open3d) (0.12.1)\n",
      "Requirement already satisfied: anyio<4,>=3.1.0 in /home/pi/anaconda3/envs/p36/lib/python3.6/site-packages (from jupyter-server~=1.4->jupyterlab==3.*,>=3.0.0->open3d) (3.1.0)\n",
      "Requirement already satisfied: Send2Trash in /home/pi/.local/lib/python3.6/site-packages (from jupyter-server~=1.4->jupyterlab==3.*,>=3.0.0->open3d) (1.8.0)\n",
      "Requirement already satisfied: pyzmq>=17 in /home/pi/.local/lib/python3.6/site-packages (from jupyter-server~=1.4->jupyterlab==3.*,>=3.0.0->open3d) (22.3.0)\n",
      "Requirement already satisfied: nbconvert in /home/pi/.local/lib/python3.6/site-packages (from jupyter-server~=1.4->jupyterlab==3.*,>=3.0.0->open3d) (6.0.7)\n",
      "Requirement already satisfied: websocket-client in /home/pi/anaconda3/envs/p36/lib/python3.6/site-packages (from jupyter-server~=1.4->jupyterlab==3.*,>=3.0.0->open3d) (0.57.0)\n",
      "Requirement already satisfied: jsonschema>=3.0.1 in /home/pi/.local/lib/python3.6/site-packages (from jupyterlab-server~=2.3->jupyterlab==3.*,>=3.0.0->open3d) (3.2.0)\n",
      "Requirement already satisfied: babel in /home/pi/anaconda3/envs/p36/lib/python3.6/site-packages (from jupyterlab-server~=2.3->jupyterlab==3.*,>=3.0.0->open3d) (2.9.1)\n",
      "Requirement already satisfied: json5 in /home/pi/anaconda3/envs/p36/lib/python3.6/site-packages (from jupyterlab-server~=2.3->jupyterlab==3.*,>=3.0.0->open3d) (0.9.5)\n",
      "Requirement already satisfied: requests in /home/pi/anaconda3/envs/p36/lib/python3.6/site-packages (from jupyterlab-server~=2.3->jupyterlab==3.*,>=3.0.0->open3d) (2.25.1)\n",
      "Requirement already satisfied: notebook<7 in /home/pi/.local/lib/python3.6/site-packages (from nbclassic~=0.2->jupyterlab==3.*,>=3.0.0->open3d) (6.4.6)\n",
      "Requirement already satisfied: dataclasses in /home/pi/anaconda3/envs/p36/lib/python3.6/site-packages (from anyio<4,>=3.1.0->jupyter-server~=1.4->jupyterlab==3.*,>=3.0.0->open3d) (0.8)\n",
      "Requirement already satisfied: async-generator in /home/pi/.local/lib/python3.6/site-packages (from anyio<4,>=3.1.0->jupyter-server~=1.4->jupyterlab==3.*,>=3.0.0->open3d) (1.10)\n",
      "Requirement already satisfied: sniffio>=1.1 in /home/pi/anaconda3/envs/p36/lib/python3.6/site-packages (from anyio<4,>=3.1.0->jupyter-server~=1.4->jupyterlab==3.*,>=3.0.0->open3d) (1.2.0)\n",
      "Requirement already satisfied: idna>=2.8 in /home/pi/anaconda3/envs/p36/lib/python3.6/site-packages (from anyio<4,>=3.1.0->jupyter-server~=1.4->jupyterlab==3.*,>=3.0.0->open3d) (2.10)\n",
      "Requirement already satisfied: typing-extensions in /home/pi/anaconda3/envs/p36/lib/python3.6/site-packages (from anyio<4,>=3.1.0->jupyter-server~=1.4->jupyterlab==3.*,>=3.0.0->open3d) (3.10.0.0)\n",
      "Requirement already satisfied: parso<0.8.0,>=0.7.0 in /home/pi/.local/lib/python3.6/site-packages (from jedi<=0.17.2,>=0.10->ipython->jupyterlab==3.*,>=3.0.0->open3d) (0.7.1)\n",
      "Requirement already satisfied: attrs>=17.4.0 in /home/pi/.local/lib/python3.6/site-packages (from jsonschema>=3.0.1->jupyterlab-server~=2.3->jupyterlab==3.*,>=3.0.0->open3d) (21.4.0)\n",
      "Requirement already satisfied: importlib-metadata in /home/pi/anaconda3/envs/p36/lib/python3.6/site-packages (from jsonschema>=3.0.1->jupyterlab-server~=2.3->jupyterlab==3.*,>=3.0.0->open3d) (4.5.0)\n",
      "Requirement already satisfied: pyrsistent>=0.14.0 in /home/pi/.local/lib/python3.6/site-packages (from jsonschema>=3.0.1->jupyterlab-server~=2.3->jupyterlab==3.*,>=3.0.0->open3d) (0.18.0)\n",
      "Requirement already satisfied: nest-asyncio>=1.5 in /home/pi/.local/lib/python3.6/site-packages (from jupyter-client->ipykernel>=4.5.1->ipywidgets>=7.6.0->open3d) (1.5.4)\n",
      "Requirement already satisfied: entrypoints in /home/pi/.local/lib/python3.6/site-packages (from jupyter-client->ipykernel>=4.5.1->ipywidgets>=7.6.0->open3d) (0.3)\n",
      "Requirement already satisfied: wcwidth in /home/pi/.local/lib/python3.6/site-packages (from prompt-toolkit!=3.0.0,!=3.0.1,<3.1.0,>=2.0.0->ipython->jupyterlab==3.*,>=3.0.0->open3d) (0.2.5)\n",
      "Requirement already satisfied: ptyprocess in /home/pi/.local/lib/python3.6/site-packages (from terminado>=0.8.3->jupyter-server~=1.4->jupyterlab==3.*,>=3.0.0->open3d) (0.7.0)\n",
      "Requirement already satisfied: argon2-cffi-bindings in /home/pi/.local/lib/python3.6/site-packages (from argon2-cffi->jupyter-server~=1.4->jupyterlab==3.*,>=3.0.0->open3d) (21.2.0)\n",
      "Requirement already satisfied: mistune<2,>=0.8.1 in /home/pi/.local/lib/python3.6/site-packages (from nbconvert->jupyter-server~=1.4->jupyterlab==3.*,>=3.0.0->open3d) (0.8.4)\n",
      "Requirement already satisfied: bleach in /home/pi/.local/lib/python3.6/site-packages (from nbconvert->jupyter-server~=1.4->jupyterlab==3.*,>=3.0.0->open3d) (4.1.0)\n",
      "Requirement already satisfied: pandocfilters>=1.4.1 in /home/pi/.local/lib/python3.6/site-packages (from nbconvert->jupyter-server~=1.4->jupyterlab==3.*,>=3.0.0->open3d) (1.5.0)\n",
      "Requirement already satisfied: defusedxml in /home/pi/.local/lib/python3.6/site-packages (from nbconvert->jupyter-server~=1.4->jupyterlab==3.*,>=3.0.0->open3d) (0.7.1)\n",
      "Requirement already satisfied: jupyterlab-pygments in /home/pi/.local/lib/python3.6/site-packages (from nbconvert->jupyter-server~=1.4->jupyterlab==3.*,>=3.0.0->open3d) (0.1.2)\n",
      "Requirement already satisfied: testpath in /home/pi/.local/lib/python3.6/site-packages (from nbconvert->jupyter-server~=1.4->jupyterlab==3.*,>=3.0.0->open3d) (0.5.0)\n",
      "Requirement already satisfied: nbclient<0.6.0,>=0.5.0 in /home/pi/.local/lib/python3.6/site-packages (from nbconvert->jupyter-server~=1.4->jupyterlab==3.*,>=3.0.0->open3d) (0.5.9)\n",
      "Requirement already satisfied: certifi>=2017.4.17 in /home/pi/anaconda3/envs/p36/lib/python3.6/site-packages (from requests->jupyterlab-server~=2.3->jupyterlab==3.*,>=3.0.0->open3d) (2021.5.30)\n",
      "Requirement already satisfied: chardet<5,>=3.0.2 in /home/pi/anaconda3/envs/p36/lib/python3.6/site-packages (from requests->jupyterlab-server~=2.3->jupyterlab==3.*,>=3.0.0->open3d) (4.0.0)\n",
      "Requirement already satisfied: urllib3<1.27,>=1.21.1 in /home/pi/anaconda3/envs/p36/lib/python3.6/site-packages (from requests->jupyterlab-server~=2.3->jupyterlab==3.*,>=3.0.0->open3d) (1.26.5)\n",
      "Requirement already satisfied: contextvars>=2.1 in /home/pi/anaconda3/envs/p36/lib/python3.6/site-packages (from sniffio>=1.1->anyio<4,>=3.1.0->jupyter-server~=1.4->jupyterlab==3.*,>=3.0.0->open3d) (2.4)\n",
      "Requirement already satisfied: cffi>=1.0.1 in /home/pi/.local/lib/python3.6/site-packages (from argon2-cffi-bindings->argon2-cffi->jupyter-server~=1.4->jupyterlab==3.*,>=3.0.0->open3d) (1.15.0)\n",
      "Requirement already satisfied: webencodings in /home/pi/.local/lib/python3.6/site-packages (from bleach->nbconvert->jupyter-server~=1.4->jupyterlab==3.*,>=3.0.0->open3d) (0.5.1)\n",
      "Requirement already satisfied: zipp>=0.5 in /home/pi/anaconda3/envs/p36/lib/python3.6/site-packages (from importlib-metadata->jsonschema>=3.0.1->jupyterlab-server~=2.3->jupyterlab==3.*,>=3.0.0->open3d) (3.4.1)\n",
      "Requirement already satisfied: pycparser in /home/pi/.local/lib/python3.6/site-packages (from cffi>=1.0.1->argon2-cffi-bindings->argon2-cffi->jupyter-server~=1.4->jupyterlab==3.*,>=3.0.0->open3d) (2.21)\n",
      "Requirement already satisfied: immutables>=0.9 in /home/pi/anaconda3/envs/p36/lib/python3.6/site-packages (from contextvars>=2.1->sniffio>=1.1->anyio<4,>=3.1.0->jupyter-server~=1.4->jupyterlab==3.*,>=3.0.0->open3d) (0.15)\n"
     ]
    }
   ],
   "source": [
    "# Install Open3D stable release with pip (including in conda virtual environments)\n",
    "!pip install open3d"
   ]
  },
  {
   "cell_type": "code",
   "execution_count": 4,
   "metadata": {},
   "outputs": [
    {
     "name": "stdout",
     "output_type": "stream",
     "text": [
      "Jupyter environment detected. Enabling Open3D WebVisualizer.\n",
      "[Open3D INFO] WebRTC GUI backend enabled.\n",
      "[Open3D INFO] WebRTCWindowSystem: HTTP handshake server disabled.\n",
      "<module 'open3d' from '/home/pi/anaconda3/envs/p36/lib/python3.6/site-packages/open3d/__init__.py'>\n"
     ]
    }
   ],
   "source": [
    "import open3d as o3d; \n",
    "print(o3d)"
   ]
  },
  {
   "cell_type": "markdown",
   "metadata": {},
   "source": [
    "* Download the point cloud"
   ]
  },
  {
   "cell_type": "code",
   "execution_count": 11,
   "metadata": {},
   "outputs": [],
   "source": [
    "# !wget https://raw.githubusercontent.com/PointCloudLibrary/pcl/master/test/bunny.pcd"
   ]
  },
  {
   "cell_type": "markdown",
   "metadata": {},
   "source": [
    "* Read the point cloud from `*.pcd file` \n",
    "* draw geometries"
   ]
  },
  {
   "cell_type": "code",
   "execution_count": 14,
   "metadata": {},
   "outputs": [],
   "source": [
    "rabbit_cloud = o3d.io.read_point_cloud(\"../data/pointcloud/bunny.pcd\")\n",
    "if rabbit_cloud.is_empty():\n",
    "    print(\"read file is empty\")\n",
    "else:\n",
    "    # draw geometries\n",
    "    o3d.visualization.draw_geometries([rabbit_cloud])"
   ]
  }
 ],
 "metadata": {
  "interpreter": {
   "hash": "da7da8fde1d25477ded7e22555e17b53ed3efd80c9085ececf05301fa7adca65"
  },
  "kernelspec": {
   "display_name": "Python 3.6.10 64-bit ('p36': conda)",
   "language": "python",
   "name": "python3"
  },
  "language_info": {
   "codemirror_mode": {
    "name": "ipython",
    "version": 3
   },
   "file_extension": ".py",
   "mimetype": "text/x-python",
   "name": "python",
   "nbconvert_exporter": "python",
   "pygments_lexer": "ipython3",
   "version": "3.6.10"
  },
  "orig_nbformat": 4
 },
 "nbformat": 4,
 "nbformat_minor": 2
}
