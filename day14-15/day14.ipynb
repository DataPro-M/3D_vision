{
 "cells": [
  {
   "cell_type": "markdown",
   "metadata": {},
   "source": [
    "***\n",
    "<div style=\"text-align:center\">\n",
    "     <h1 align=\"center\">\n",
    "         <i class=\"fas fa-calendar-day\" aria-hidden=\"true\">  Day 14 of #3D_vision_journey </i>\n",
    "    </h1>      \n",
    "</div>\n",
    "\n",
    "<h3 style='text-align: center;'>\n",
    "    <img  src=\"../images/open3d_logo.png\" height=\"50\"/>\n",
    "\n",
    "    ICP registration\n",
    "</h3>"
   ]
  },
  {
   "cell_type": "markdown",
   "metadata": {},
   "source": [
    "* Load the libraries"
   ]
  },
  {
   "cell_type": "code",
   "execution_count": 1,
   "metadata": {},
   "outputs": [],
   "source": [
    "import open3d as o3d\n",
    "import numpy as np\n",
    "from   copy import copy, deepcopy\n",
    "\n",
    "draw_bit = 0 # draw it or not!"
   ]
  },
  {
   "cell_type": "markdown",
   "metadata": {},
   "source": [
    "###  Load point cloud"
   ]
  },
  {
   "cell_type": "code",
   "execution_count": 2,
   "metadata": {},
   "outputs": [
    {
     "name": "stdout",
     "output_type": "stream",
     "text": [
      "Load a point cloud, and render it...\n",
      "\n",
      "The 'source' have 198835 3D points,\n",
      "The 'target' have 137833 3D points\n"
     ]
    }
   ],
   "source": [
    "print(\"Load a point cloud, and render it...\\n\")\n",
    "source = o3d.io.read_point_cloud(\"../data/pointcloud/cloud_bin_0.pcd\")\n",
    "target = o3d.io.read_point_cloud(\"../data/pointcloud/cloud_bin_1.pcd\")\n",
    "\n",
    "print(f\"\"\"The 'source' have {np.asarray(source.points).shape[0]} 3D points,\n",
    "The 'target' have {np.asarray(target.points).shape[0]} 3D points\"\"\")\n",
    "\n",
    "if draw_bit:\n",
    "    o3d.visualization.draw_geometries([source])\n"
   ]
  },
  {
   "cell_type": "markdown",
   "metadata": {},
   "source": [
    "### transformation matrix\n",
    "\n",
    "the initial transformation is a \n",
    "- 4x4 matrix(`[R, t; 0, 1]`), \n",
    "- `R` is a 3x3 `rotation matrix` and \n",
    "- `t` is a 3x1 `translation vector`. "
   ]
  },
  {
   "cell_type": "code",
   "execution_count": 3,
   "metadata": {},
   "outputs": [
    {
     "name": "stdout",
     "output_type": "stream",
     "text": [
      "The initial transformation matrix:\n",
      "[[ 0.862  0.011 -0.507  0.5  ]\n",
      " [-0.139  0.967 -0.215  0.7  ]\n",
      " [ 0.487  0.255  0.835 -1.4  ]\n",
      " [ 0.     0.     0.     1.   ]]\n"
     ]
    }
   ],
   "source": [
    "threshold  = 0.02\n",
    "# Manually set the transformation matrix\n",
    "trans_init = np.asarray([[0.862,  0.011, -0.507,  0.5],\n",
    "                         [-0.139, 0.967, -0.215,  0.7],\n",
    "                         [0.487,  0.255,  0.835, -1.4], \n",
    "                         [0.0,    0.0,     0.0,   1.0]])\n",
    "print(f\"The initial transformation matrix:\\n{trans_init}\")"
   ]
  },
  {
   "cell_type": "markdown",
   "metadata": {},
   "source": [
    "### Draw registration result\n",
    "\n"
   ]
  },
  {
   "cell_type": "code",
   "execution_count": 4,
   "metadata": {},
   "outputs": [],
   "source": [
    "def draw_registration_result(source, target, transformation):\n",
    "    source_temp = deepcopy(source)\n",
    "    target_temp = deepcopy(target)\n",
    "    source_temp.paint_uniform_color([1, 0.706, 0])\n",
    "    target_temp.paint_uniform_color([0, 0.651, 0.929])\n",
    "    source_temp.transform(transformation)\n",
    "    # visualizing\n",
    "    o3d.visualization.draw_geometries([source_temp, target_temp],\n",
    "                                        zoom=0.4459,\n",
    "                                        front=[0.9288, -0.2951, -0.2242],\n",
    "                                        lookat=[1.6784, 2.0612, 1.4451],\n",
    "                                        up=[-0.3402, -0.9189, -0.1996])\n",
    "if draw_bit:\n",
    "    \n",
    "    draw_registration_result(source, target, trans_init)"
   ]
  },
  {
   "cell_type": "markdown",
   "metadata": {},
   "source": [
    "### Initial alignment\n",
    "- `fitness`:    The higher,   the better\n",
    "- `inlier_rms`: The lower,    the better"
   ]
  },
  {
   "cell_type": "code",
   "execution_count": 5,
   "metadata": {},
   "outputs": [],
   "source": [
    "#%%timeit\n",
    "\n",
    "evaluation = o3d.pipelines.registration.evaluate_registration(source, target, threshold, trans_init)\n",
    "\n",
    "if draw_bit:\n",
    "    print(evaluation,'\\n') \n"
   ]
  },
  {
   "cell_type": "markdown",
   "metadata": {},
   "source": [
    "### Apply point-to-point ICP"
   ]
  },
  {
   "cell_type": "code",
   "execution_count": 6,
   "metadata": {},
   "outputs": [
    {
     "name": "stdout",
     "output_type": "stream",
     "text": [
      "Apply point-to-point ICP\n"
     ]
    }
   ],
   "source": [
    "#%%timeit\n",
    "\n",
    "print(\"Apply point-to-point ICP\")\n",
    "reg_p2p = o3d.pipelines.registration.registration_icp(\n",
    "    source, target, threshold, trans_init,\n",
    "    o3d.pipelines.registration.TransformationEstimationPointToPoint())\n",
    "\n",
    "if draw_bit:\n",
    "    print(reg_p2p)\n",
    "    print(\"\\nTransformation is:\")\n",
    "    print(reg_p2p.transformation)\n",
    "    draw_registration_result(source, target, reg_p2p.transformation)"
   ]
  },
  {
   "cell_type": "markdown",
   "metadata": {},
   "source": [
    "### P-t-P ICP with 2000 iterations"
   ]
  },
  {
   "cell_type": "code",
   "execution_count": 7,
   "metadata": {},
   "outputs": [
    {
     "name": "stdout",
     "output_type": "stream",
     "text": [
      "P-t-P ICP with 2000 iterations\n"
     ]
    }
   ],
   "source": [
    "#%%timeit\n",
    "\n",
    "print(\"P-t-P ICP with 2000 iterations\")\n",
    "reg_p2p = o3d.pipelines.registration.registration_icp(\n",
    "    source, target, threshold, trans_init,\n",
    "    o3d.pipelines.registration.TransformationEstimationPointToPoint(),\n",
    "    o3d.pipelines.registration.ICPConvergenceCriteria(max_iteration=2000))\n",
    "\n",
    "if draw_bit:\n",
    "    print(reg_p2p)\n",
    "    draw_registration_result(source, target, reg_p2p.transformation)"
   ]
  },
  {
   "cell_type": "markdown",
   "metadata": {},
   "source": [
    "### Point-to -Plane ICP"
   ]
  },
  {
   "cell_type": "code",
   "execution_count": 8,
   "metadata": {},
   "outputs": [
    {
     "name": "stdout",
     "output_type": "stream",
     "text": [
      "Apply point-to-plane ICP\n"
     ]
    }
   ],
   "source": [
    "\n",
    "#%%timeit\n",
    "\n",
    "print(\"Apply point-to-plane ICP\")\n",
    "reg_p2l = o3d.pipelines.registration.registration_icp(\n",
    "    source, target, threshold, trans_init,\n",
    "    o3d.pipelines.registration.TransformationEstimationPointToPlane())\n",
    "    \n",
    "if draw_bit:\n",
    "    print(reg_p2l)\n",
    "    print(\"Transformation is:\")\n",
    "    print(reg_p2l.transformation)\n",
    "    draw_registration_result(source, target, reg_p2l.transformation)"
   ]
  },
  {
   "cell_type": "markdown",
   "metadata": {},
   "source": [
    "***\n",
    "<div style=\"text-align:center\">\n",
    "     <h1 align=\"center\">\n",
    "         <i class=\"fas fa-calendar-day\" aria-hidden=\"true\">  Day 15 of #3D_vision_journey </i>\n",
    "    </h1>      \n",
    "</div>\n",
    "\n",
    "<h3 style='text-align: center;'>\n",
    "    <img  src=\"../images/open3d_logo.png\" height=\"50\"/> \n",
    "    \n",
    "    Robust ICP   \n",
    "</h3>"
   ]
  },
  {
   "cell_type": "markdown",
   "metadata": {},
   "source": [
    "### Source PointCloud + noise"
   ]
  },
  {
   "cell_type": "code",
   "execution_count": 9,
   "metadata": {},
   "outputs": [],
   "source": [
    "def apply_noise(pcd, mu, sigma):\n",
    "    noisy_pcd = deepcopy(pcd)\n",
    "    points = np.asarray(noisy_pcd.points)\n",
    "    points += np.random.normal(mu, sigma, size=points.shape)\n",
    "    noisy_pcd.points = o3d.utility.Vector3dVector(points)\n",
    "    return noisy_pcd\n",
    "\n",
    "mu, sigma = 0, 0.1  # mean and standard deviation\n",
    "source_noisy = apply_noise(source, mu, sigma)\n",
    "\n",
    "if draw_bit:\n",
    "    print(\"Source PointCloud + noise:\")\n",
    "    o3d.visualization.draw_geometries([source_noisy],\n",
    "                                    zoom=0.4459,\n",
    "                                    front=[0.353, -0.469, -0.809],\n",
    "                                    lookat=[2.343, 2.217, 1.809],\n",
    "                                    up=[-0.097, -0.879, 0.467])"
   ]
  },
  {
   "cell_type": "markdown",
   "metadata": {},
   "source": [
    "### Vanilla point-to-plane ICP"
   ]
  },
  {
   "cell_type": "code",
   "execution_count": 10,
   "metadata": {},
   "outputs": [
    {
     "name": "stdout",
     "output_type": "stream",
     "text": [
      "Vanilla point-to-plane ICP, threshold=1.0:\n"
     ]
    }
   ],
   "source": [
    "#%%timeit\n",
    "\n",
    "threshold = 1.0\n",
    "print(\"Vanilla point-to-plane ICP, threshold={}:\".format(threshold))\n",
    "p2l = o3d.pipelines.registration.TransformationEstimationPointToPlane()\n",
    "reg_p2l = o3d.pipelines.registration.registration_icp(source_noisy, target,\n",
    "                                                      threshold, trans_init,\n",
    "                                                      p2l)\n",
    "if draw_bit:\n",
    "    print(reg_p2l)\n",
    "    print(\"\\nTransformation is:\")\n",
    "    print(reg_p2l.transformation)\n",
    "    draw_registration_result(source, target, reg_p2l.transformation)"
   ]
  },
  {
   "cell_type": "markdown",
   "metadata": {},
   "source": [
    "### Robust point-to-plane ICP"
   ]
  },
  {
   "cell_type": "code",
   "execution_count": 12,
   "metadata": {},
   "outputs": [
    {
     "name": "stdout",
     "output_type": "stream",
     "text": [
      "Robust point-to-plane ICP, threshold=1.0:\n",
      "Using robust loss: RobustKernel::TukeyLoss with k=0.100000\n"
     ]
    }
   ],
   "source": [
    "#%%timeit\n",
    "\n",
    "print(\"Robust point-to-plane ICP, threshold={}:\".format(threshold))\n",
    "loss = o3d.pipelines.registration.TukeyLoss(k=sigma)\n",
    "print(\"Using robust loss:\", loss)\n",
    "p2l = o3d.pipelines.registration.TransformationEstimationPointToPlane(loss)\n",
    "reg_p2l = o3d.pipelines.registration.registration_icp(source_noisy, target,\n",
    "                                                      threshold, trans_init,\n",
    "                                                      p2l)\n",
    "if draw_bit:\n",
    "    print(reg_p2l)\n",
    "    print(\"\\nTransformation is:\")\n",
    "    print(reg_p2l.transformation)\n",
    "    draw_registration_result(source, target, reg_p2l.transformation)"
   ]
  }
 ],
 "metadata": {
  "interpreter": {
   "hash": "da7da8fde1d25477ded7e22555e17b53ed3efd80c9085ececf05301fa7adca65"
  },
  "kernelspec": {
   "display_name": "Python 3.6.10 64-bit ('p36': conda)",
   "language": "python",
   "name": "python3"
  },
  "language_info": {
   "codemirror_mode": {
    "name": "ipython",
    "version": 3
   },
   "file_extension": ".py",
   "mimetype": "text/x-python",
   "name": "python",
   "nbconvert_exporter": "python",
   "pygments_lexer": "ipython3",
   "version": "3.6.10"
  },
  "orig_nbformat": 4
 },
 "nbformat": 4,
 "nbformat_minor": 2
}
